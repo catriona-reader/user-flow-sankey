{
 "cells": [
  {
   "cell_type": "code",
   "execution_count": 1,
   "id": "3086794c-44ed-416e-8620-6e6471907e9a",
   "metadata": {},
   "outputs": [],
   "source": [
    "import pandas as pd\n",
    "import numpy as np"
   ]
  },
  {
   "cell_type": "markdown",
   "id": "9735ebc5-e9d4-4b7b-bf11-d3ecafd2c9a7",
   "metadata": {
    "tags": []
   },
   "source": [
    "## Read in data\n",
    "\n",
    "Dummy dataset included for testing. \n",
    "\n",
    "This has been written on the assumption that you are working with page views & click events, but you can run this only using pageview data. "
   ]
  },
  {
   "cell_type": "code",
   "execution_count": 2,
   "id": "7db76cef-bbca-4e2f-a699-f14355882ac2",
   "metadata": {},
   "outputs": [],
   "source": [
    "customEvents = pd.read_csv('data_test/eventsDemo.csv')\n",
    "pageViews = pd.read_csv('data_test/pageViewsDemo.csv')\n",
    "\n",
    "customEvents.timestamp = customEvents.timestamp.apply(lambda x : pd.to_datetime(x))\n",
    "pageViews.timestamp = pageViews.timestamp.apply(lambda x : pd.to_datetime(x))"
   ]
  },
  {
   "cell_type": "code",
   "execution_count": 3,
   "id": "f577edd1-8371-4574-b7f4-1854011508c8",
   "metadata": {},
   "outputs": [
    {
     "data": {
      "text/html": [
       "<div>\n",
       "<style scoped>\n",
       "    .dataframe tbody tr th:only-of-type {\n",
       "        vertical-align: middle;\n",
       "    }\n",
       "\n",
       "    .dataframe tbody tr th {\n",
       "        vertical-align: top;\n",
       "    }\n",
       "\n",
       "    .dataframe thead th {\n",
       "        text-align: right;\n",
       "    }\n",
       "</style>\n",
       "<table border=\"1\" class=\"dataframe\">\n",
       "  <thead>\n",
       "    <tr style=\"text-align: right;\">\n",
       "      <th></th>\n",
       "      <th>timestamp</th>\n",
       "      <th>name</th>\n",
       "      <th>session_Id</th>\n",
       "      <th>user_Id</th>\n",
       "    </tr>\n",
       "  </thead>\n",
       "  <tbody>\n",
       "    <tr>\n",
       "      <th>0</th>\n",
       "      <td>2024-07-07 13:03:42.622000+00:00</td>\n",
       "      <td>Calculate dates</td>\n",
       "      <td>w9MzPUanCt/nkBkXLtpxq+</td>\n",
       "      <td>hqFhE9wWs6cVoHMXR8ev6c</td>\n",
       "    </tr>\n",
       "    <tr>\n",
       "      <th>1</th>\n",
       "      <td>2024-07-07 13:03:44.566000+00:00</td>\n",
       "      <td>Reason 13</td>\n",
       "      <td>w9MzPUanCt/nkBkXLtpxq+</td>\n",
       "      <td>hqFhE9wWs6cVoHMXR8ev6c</td>\n",
       "    </tr>\n",
       "  </tbody>\n",
       "</table>\n",
       "</div>"
      ],
      "text/plain": [
       "                         timestamp             name              session_Id  \\\n",
       "0 2024-07-07 13:03:42.622000+00:00  Calculate dates  w9MzPUanCt/nkBkXLtpxq+   \n",
       "1 2024-07-07 13:03:44.566000+00:00        Reason 13  w9MzPUanCt/nkBkXLtpxq+   \n",
       "\n",
       "                  user_Id  \n",
       "0  hqFhE9wWs6cVoHMXR8ev6c  \n",
       "1  hqFhE9wWs6cVoHMXR8ev6c  "
      ]
     },
     "execution_count": 3,
     "metadata": {},
     "output_type": "execute_result"
    }
   ],
   "source": [
    "customEvents.head(2)"
   ]
  },
  {
   "cell_type": "code",
   "execution_count": 4,
   "id": "7eff8cdf-2cca-4f6d-acd0-7a366a03b843",
   "metadata": {},
   "outputs": [
    {
     "data": {
      "text/html": [
       "<div>\n",
       "<style scoped>\n",
       "    .dataframe tbody tr th:only-of-type {\n",
       "        vertical-align: middle;\n",
       "    }\n",
       "\n",
       "    .dataframe tbody tr th {\n",
       "        vertical-align: top;\n",
       "    }\n",
       "\n",
       "    .dataframe thead th {\n",
       "        text-align: right;\n",
       "    }\n",
       "</style>\n",
       "<table border=\"1\" class=\"dataframe\">\n",
       "  <thead>\n",
       "    <tr style=\"text-align: right;\">\n",
       "      <th></th>\n",
       "      <th>timestamp</th>\n",
       "      <th>name</th>\n",
       "      <th>session_Id</th>\n",
       "      <th>user_Id</th>\n",
       "    </tr>\n",
       "  </thead>\n",
       "  <tbody>\n",
       "    <tr>\n",
       "      <th>0</th>\n",
       "      <td>2024-07-06 06:58:12.505000+00:00</td>\n",
       "      <td>Check information</td>\n",
       "      <td>xBt2AIXOtvlCMfLZgDSKNO</td>\n",
       "      <td>S9y1hcrJytHsZYcLjKSsxc</td>\n",
       "    </tr>\n",
       "    <tr>\n",
       "      <th>1</th>\n",
       "      <td>2024-07-06 06:59:09.216000+00:00</td>\n",
       "      <td>Get calculation reason</td>\n",
       "      <td>Qa/eiaFhg83kolPMjB9/FG</td>\n",
       "      <td>hKrzluLLYRQuUplqVDFdjK</td>\n",
       "    </tr>\n",
       "  </tbody>\n",
       "</table>\n",
       "</div>"
      ],
      "text/plain": [
       "                         timestamp                    name  \\\n",
       "0 2024-07-06 06:58:12.505000+00:00       Check information   \n",
       "1 2024-07-06 06:59:09.216000+00:00  Get calculation reason   \n",
       "\n",
       "               session_Id                 user_Id  \n",
       "0  xBt2AIXOtvlCMfLZgDSKNO  S9y1hcrJytHsZYcLjKSsxc  \n",
       "1  Qa/eiaFhg83kolPMjB9/FG  hKrzluLLYRQuUplqVDFdjK  "
      ]
     },
     "execution_count": 4,
     "metadata": {},
     "output_type": "execute_result"
    }
   ],
   "source": [
    "pageViews.head(2)"
   ]
  },
  {
   "cell_type": "code",
   "execution_count": 5,
   "id": "1fc8d451-ae16-4386-b3ce-4ad6578eefb0",
   "metadata": {},
   "outputs": [],
   "source": [
    "# functions below expect a type column \n",
    "# even if you are only running this view pageview data, include a type \n",
    "\n",
    "customEvents['type'] = 'customEvent' \n",
    "pageViews['type'] = 'pageView' "
   ]
  },
  {
   "cell_type": "code",
   "execution_count": 6,
   "id": "1ffc0f90-949c-4cf6-bad1-f136d765ec94",
   "metadata": {},
   "outputs": [],
   "source": [
    "# convert custom events to more readable names: this is project specific, e.g:\n",
    "\n",
    "custom_event_dict = {\n",
    "    'manual-entry': 'Manual entry', \n",
    "    'tab_detailed': 'Detailed tab'\n",
    "}\n",
    "\n",
    "customEvents['name'] = customEvents['name'].apply(lambda x: custom_event_dict.get(x, x))\n",
    "\n",
    "# In case there are equivalent page views and click events \n",
    "customEvents['name'] = customEvents['name'].apply(lambda x: 'Click: ' + x)"
   ]
  },
  {
   "cell_type": "code",
   "execution_count": 7,
   "id": "39497a8f-8fdb-452a-8160-265d6da03df8",
   "metadata": {},
   "outputs": [],
   "source": [
    "# convert page views to more readable names: this is project specific - e.g: \n",
    "\n",
    "page_view_dict = {\n",
    "    'Review calculation': 'Review information'\n",
    "}\n",
    "pageViews['name'] = pageViews['name'].apply(lambda x: page_view_dict.get(x, x))"
   ]
  },
  {
   "cell_type": "markdown",
   "id": "a04991c8-2ee9-4387-a987-2626dd34bb23",
   "metadata": {
    "tags": []
   },
   "source": [
    "## Remove bot / testing users"
   ]
  },
  {
   "cell_type": "code",
   "execution_count": 8,
   "id": "b1ca45cf-5b76-4764-a61e-10b8f8a2e788",
   "metadata": {},
   "outputs": [],
   "source": [
    "# This step is option and should be adapted for your project purposes. \n",
    "# In this example case, we do not expect to see any ordinary users with more than 50 pageviews per session \n",
    "\n",
    "max_views = 50\n",
    "\n",
    "relevant_sessions = pageViews.groupby('session_Id').session_Id.count()[pageViews.groupby('session_Id').session_Id.count() < max_views].index.to_list()\n",
    "\n",
    "pageViews = pageViews[pageViews.session_Id.isin(relevant_sessions)].copy()\n",
    "customEvents = customEvents[customEvents.session_Id.isin(relevant_sessions)].copy()\n",
    "\n",
    "assert len(pageViews.groupby('session_Id').session_Id.count()[pageViews.groupby('session_Id').session_Id.count() > max_views].sort_values()) == 0"
   ]
  },
  {
   "cell_type": "markdown",
   "id": "417f7dde-10eb-43ee-b1e5-2f94eab7f955",
   "metadata": {
    "tags": []
   },
   "source": [
    "## Combine page views and custom events  "
   ]
  },
  {
   "cell_type": "code",
   "execution_count": 9,
   "id": "239493c6-a4f8-47cf-8426-ca93f8617bee",
   "metadata": {},
   "outputs": [],
   "source": [
    "# # combine without the duration column\n",
    "# df = pd.concat([pageViews[[c for c in pageViews if c != 'duration']], customEvents])\n",
    "\n",
    "# # convert timestamp from string to datetime\n",
    "# df.timestamp = df.timestamp.apply(lambda x : pd.to_datetime(x))"
   ]
  },
  {
   "cell_type": "markdown",
   "id": "4c261d48-30c9-4950-bc50-9ecc4a4ff107",
   "metadata": {},
   "source": [
    "## Or Choose Specific CustomEvents to Include "
   ]
  },
  {
   "cell_type": "code",
   "execution_count": 10,
   "id": "5b3bf070-1ef7-44f3-9632-72694c7b204f",
   "metadata": {},
   "outputs": [
    {
     "name": "stdout",
     "output_type": "stream",
     "text": [
      "16870 1974\n"
     ]
    }
   ],
   "source": [
    "relevant_events = ['Click: Service Home', 'Click: Print slip']\n",
    "relevant_customEvents = customEvents[customEvents.name.isin(relevant_events)]\n",
    "\n",
    "\n",
    "# determine size of dataframe prior to and after dropping extra events\n",
    "print(customEvents.shape[0], relevant_customEvents.shape[0])\n",
    "\n",
    "# combine \n",
    "df = pd.concat([pageViews, relevant_customEvents])"
   ]
  },
  {
   "cell_type": "markdown",
   "id": "e74b84ed-45f8-41e8-ae32-b5d8d2b1f930",
   "metadata": {
    "tags": []
   },
   "source": [
    "## Calculate page view average duration"
   ]
  },
  {
   "cell_type": "code",
   "execution_count": 11,
   "id": "a93fe36f-43a8-48bd-8486-942d49ac17c8",
   "metadata": {},
   "outputs": [],
   "source": [
    "# reworked to respect click events \n",
    "def return_page_visit_duration(df, min_time = 1, max_time = 3600): \n",
    "    \"\"\"\n",
    "    Function returns a dataframe with mean and median page visit time for each \n",
    "    page visited, differentiated by which step of the journey it is. \n",
    "    \"\"\"    \n",
    "    \n",
    "    df_all = df.copy()\n",
    "    df_all.sort_values(by = ['session_Id', 'timestamp'], inplace=True)\n",
    "    \n",
    "   #  add the step and label to each one \n",
    "    df_all['step'] = df_all.groupby('session_Id').cumcount() + 1\n",
    "    df_all['step'] = df_all['step'].apply(lambda x: str(x))\n",
    "    \n",
    "\n",
    "    # now that we have correct labels, drop everything apart from pageViews - this stops clickEvents from skewing the view time \n",
    "    df_all['label'] = df_all.apply(lambda x : '{}: '.format(x.step) + x['name'], axis = 1)\n",
    "\n",
    "    df_views = df_all[df_all.type == 'pageView'].copy()\n",
    "    \n",
    "    # convert timestamp from string to datetime and find the next timestamp\n",
    "    df_views.timestamp = df_views.timestamp.apply(lambda x : pd.to_datetime(x))\n",
    "    df_views['next_timestamp'] = df_views.groupby('session_Id').timestamp.shift(-1)\n",
    "    \n",
    "    # and calculate duration: \n",
    "    df_views['visitTimeSeconds'] = (df_views.next_timestamp - df_views.timestamp).apply(lambda x : x.total_seconds())\n",
    "\n",
    "    # remove pageViews that are < min_time or > max_time\n",
    "\n",
    "    print(\"Original dataframe size: {} rows\".format(df_views.shape[0]))\n",
    "    reduced = df_views[(df_views.visitTimeSeconds >= min_time) & (df_views.visitTimeSeconds <= max_time)]\n",
    "    print(\"Reduced size: {} rows\".format(reduced.shape[0]))\n",
    "    print(\"Removed {} pageViews with a duration less than {} second or greater than {} seconds\".format(df_views.shape[0] - reduced.shape[0], min_time, max_time))\n",
    "    \n",
    "    # average duration by labels..include count to remove outliers \n",
    "    pageVisitTime = reduced.groupby('label').visitTimeSeconds.agg(['mean', 'median', 'count'])\n",
    "    pageVisitTime = pageVisitTime[pageVisitTime['count'] >= 2]\n",
    "    \n",
    "    return pageVisitTime"
   ]
  },
  {
   "cell_type": "code",
   "execution_count": 12,
   "id": "adb37fa1-8230-4c5a-9a62-02db4e8801e9",
   "metadata": {},
   "outputs": [],
   "source": [
    "# If you want to test the output of this function, you can uncomment the code below and try out different parameters \n",
    "\n",
    "# pageVisitTime = return_page_visit_duration(df, min_time = 0)\n",
    "# pageVisitTime = return_page_visit_duration(df, min_time = 1)"
   ]
  },
  {
   "cell_type": "markdown",
   "id": "09a6e0a2-ed70-4060-9c33-a9278f20bb8a",
   "metadata": {
    "tags": []
   },
   "source": [
    "## Reformat data for sankey "
   ]
  },
  {
   "cell_type": "code",
   "execution_count": 13,
   "id": "45b79418-3e2e-4610-840a-cf00d37678bd",
   "metadata": {},
   "outputs": [],
   "source": [
    "# have cancelled out values greater than 1 hour so don't need to consider how to format hours here  \n",
    "\n",
    "def format_time(x): \n",
    "    \"\"\"\n",
    "    Function returns seconds formatted as seconds, or minutes and seconds.\n",
    "    \"\"\"    \n",
    "    if x < 60: \n",
    "        return f'{int(round(x, 0))} secs'\n",
    "    if x >= 60: \n",
    "        mins = int(x // 60)\n",
    "        secs = int(round(x % 60, 0))\n",
    "        return f'{mins}.{secs} mins'"
   ]
  },
  {
   "cell_type": "code",
   "execution_count": 14,
   "id": "ede0a87c-773f-4e30-995a-5e2138f6e2ea",
   "metadata": {},
   "outputs": [],
   "source": [
    "def filter_starting_step(x, starting_step, n_steps):\n",
    "    \"\"\"\n",
    "    Function used to return the first n_steps for each user starting from the \"starting_step\".\n",
    "    The function will be used to generate the event sequence journey for each user.\n",
    "    \"\"\"\n",
    "    starting_step_index = x.index(starting_step)\n",
    "    \n",
    "    return x[starting_step_index: starting_step_index + n_steps] "
   ]
  },
  {
   "cell_type": "code",
   "execution_count": 15,
   "id": "2987edd1-7849-4109-aabb-60dfc5dc7b01",
   "metadata": {},
   "outputs": [],
   "source": [
    "def user_journey(events, starting_step, n_steps=3, events_per_step=5):\n",
    "    \"\"\"\n",
    "    Function used to map out the journey for each user starting from the defined \"starting_step\" and count\n",
    "    how many identical journeys exist across users.\n",
    "    \"\"\"\n",
    "    # sort events by time\n",
    "    events = events.sort_values(['session_Id', 'timestamp'])\n",
    "    # find the users that have performed the starting_step\n",
    "    valid_ids = events[events['name'] == starting_step]['session_Id'].unique()\n",
    "\n",
    "    # plan out the journey per user, with each step in a separate column\n",
    "    flow = events[(events['session_Id'].isin(valid_ids))] \\\n",
    "        .groupby('session_Id') \\\n",
    "        .name.agg(list) \\\n",
    "        .to_frame()['name'] \\\n",
    "        .apply(lambda x: filter_starting_step(x, starting_step=starting_step, n_steps=n_steps)) \\\n",
    "        .to_frame() \\\n",
    "        ['name'].apply(pd.Series)\n",
    "\n",
    "    # fill NaNs with \"End\" to denote no further step by user; this will be filtered out later\n",
    "    flow = flow.fillna('End')\n",
    "\n",
    "    # add the step number as prefix to each step\n",
    "    for i, col in enumerate(flow.columns):\n",
    "        flow[col] = '{}: '.format(i + 1) + flow[col].astype(str)\n",
    "\n",
    "    # replace events not in the top \"events_per_step\" most frequent list with the name \"Other\"\n",
    "    # this is done to avoid having too many nodes in the sankey diagram\n",
    "    for col in flow.columns:\n",
    "        all_events = flow[col].value_counts().index.tolist()\n",
    "        all_events = [e for e in all_events if e != (str(col + 1) + ': End')]\n",
    "        top_events = all_events[:events_per_step]\n",
    "        to_replace = list(set(all_events) - set(top_events))\n",
    "        flow[col].replace(to_replace, [str(col + 1) + ': Other'] * len(to_replace), inplace=True)\n",
    "\n",
    "    # count the number of identical journeys up the max step defined\n",
    "    flow = flow.groupby(list(range(n_steps))) \\\n",
    "        .size() \\\n",
    "        .to_frame() \\\n",
    "        .rename({0: 'count'}, axis=1) \\\n",
    "        .reset_index()\n",
    "\n",
    "    return flow"
   ]
  },
  {
   "cell_type": "code",
   "execution_count": 16,
   "id": "b31770c9-4902-4cad-8d99-8839ee539e51",
   "metadata": {},
   "outputs": [],
   "source": [
    "def sankey_df(df, starting_step, n_steps=6, events_per_step=5, hide_ends = False):\n",
    "    \"\"\"\n",
    "    Function used to generate the dataframe needed to be passed to the sankey generation function.\n",
    "    \"source\" and \"target\" column pairs denote links that will be shown in the sankey diagram.\n",
    "    \"\"\"\n",
    "    # generate the user user flow dataframe\n",
    "    flow = user_journey(df, starting_step, n_steps, events_per_step)\n",
    "    \n",
    "    pageVisitTime = return_page_visit_duration(df, min_time = 0, max_time = 3600)\n",
    "\n",
    "    # create a dictionary of node types to determine colour \n",
    "    node_type = df.groupby(['name', 'type'])['session_Id'].count().sort_values(ascending = False)\n",
    "    node_type = node_type[node_type > 10] # drop any small values \n",
    "    node_type_dict = node_type.reset_index().set_index('name')['type'].to_dict()\n",
    "    # add end \n",
    "    node_type_dict['End'] = 'End' \n",
    "    node_type_dict['Click'] = 'customEvent' # adding in separately as click events get 'Click: ' added to their label. \n",
    "\n",
    "\n",
    "    # create the basic nodes labels list\n",
    "    label_list = []\n",
    "    cat_cols = flow.columns[:-1].values.tolist()\n",
    "    for cat_col in cat_cols:\n",
    "        label_list_temp = list(set(flow[cat_col].values))\n",
    "        label_list = label_list + label_list_temp\n",
    "\n",
    "    # create a list of colours for the nodes\n",
    "    type_list = [node_type_dict.get(label.split(': ')[1], 'Other') for label in label_list]\n",
    "    colors_list = ['indigo' if i == 'pageView' else 'teal' if i == 'customEvent' else 'mediumvioletred' if i == 'End' else 'grey' for i in type_list]\n",
    "    \n",
    "    # add page duration onto the labels for pageView types\n",
    "    label_list_with_time = []\n",
    "\n",
    "    pageViewTemplate = \"{}<br>Median view time: {}<br>Mean view time: {}\"\n",
    "    customEventTemplate = \"{}\"\n",
    "\n",
    "\n",
    "\n",
    "    for l, t in zip(label_list, type_list): \n",
    "        if t == 'pageView': \n",
    "            medianT = round(pageVisitTime.to_dict()['median'][l], 1)\n",
    "            meanT = round(pageVisitTime.to_dict()['mean'][l], 1)\n",
    "            label_list_with_time.append(pageViewTemplate.format(l, format_time(medianT), format_time(meanT) ))  \n",
    "        else: \n",
    "            label_list_with_time.append(customEventTemplate.format(l)) \n",
    "\n",
    "    # transform flow df into a source-target pair\n",
    "    for i in range(len(cat_cols) - 1):\n",
    "        if i == 0:\n",
    "            source_target_df = flow[[cat_cols[i], cat_cols[i + 1], 'count']]\n",
    "            source_target_df.columns = ['source', 'target', 'count']\n",
    "        else:\n",
    "            temp_df = flow[[cat_cols[i], cat_cols[i + 1], 'count']]\n",
    "            temp_df.columns = ['source', 'target', 'count']\n",
    "            source_target_df = pd.concat([source_target_df, temp_df])\n",
    "        source_target_df = source_target_df.groupby(['source', 'target']).agg({'count': 'sum'}).reset_index()\n",
    "\n",
    "    # add index for source-target pair\n",
    "    source_target_df['source_id'] = source_target_df['source'].apply(lambda x: label_list.index(x))\n",
    "    source_target_df['target_id'] = source_target_df['target'].apply(lambda x: label_list.index(x))\n",
    "    \n",
    "    # filter out the end step if requested \n",
    "    # bug: if you provide a node without a target, it forces the node to the end of the visualization. \n",
    "    # So you cannot simply filter out the circular / target end nodes..\n",
    "    if hide_ends == True: \n",
    "        source_target_df = source_target_df[(~source_target_df['source'].str.contains('End')) &\n",
    "                                            (~source_target_df['target'].str.contains('End'))]\n",
    "\n",
    "\n",
    "    return label_list_with_time, colors_list, source_target_df"
   ]
  },
  {
   "cell_type": "code",
   "execution_count": 17,
   "id": "4f81e00b-3bcc-47dc-aa08-d406b8fa1bd2",
   "metadata": {},
   "outputs": [],
   "source": [
    "# If you want to test the output of this function, you can uncomment the code below and try out different parameters \n",
    "\n",
    "# label_list, colors_list, source_target_df = sankey_df(df, starting_step = 'Home', n_steps=6, events_per_step=8)"
   ]
  },
  {
   "cell_type": "markdown",
   "id": "f8da7571-dcc9-4336-8abb-4906cfbbb3eb",
   "metadata": {
    "tags": []
   },
   "source": [
    "## Plotly visualization code "
   ]
  },
  {
   "cell_type": "code",
   "execution_count": 18,
   "id": "d1ebbeb0-4bf7-4eb7-9eec-44d5377efecd",
   "metadata": {},
   "outputs": [],
   "source": [
    "def plot_user_flow(df, starting_step, n_steps=3, events_per_step=5, hide_ends = False, title='Sankey Diagram'):\n",
    "    \"\"\"\n",
    "    Function used to generate the sankey plot for user journeys.\n",
    "    \"\"\"\n",
    "    # transform raw events dataframe into  source:target pairs including node ids and count of each combination\n",
    "    label_list, colors_list, source_target_df = sankey_df(df, starting_step, n_steps, events_per_step, hide_ends = False)\n",
    "\n",
    "    # creating the sankey diagram\n",
    "    data = dict(\n",
    "        type='sankey',\n",
    "        node=dict(\n",
    "            pad=60,\n",
    "            thickness=20,\n",
    "            color=colors_list,\n",
    "            line=dict(\n",
    "                color=\"black\",\n",
    "                width=0.5\n",
    "            ),\n",
    "            label=label_list, \n",
    "            customdata = ['Page View<br>{}'.format(l) if 'view' in l else 'Click Event<br>{}'.format(l) for l in label_list], \n",
    "            hovertemplate='%{customdata}', \n",
    "        ),\n",
    "        link=dict(\n",
    "            source=source_target_df['source_id'].values.tolist(),\n",
    "            target=source_target_df['target_id'].values.tolist(),\n",
    "            value=source_target_df['count'].astype(int).values.tolist(),\n",
    "            color = '#e6e6e6', # between gainsboro and whitesmoke. try also 'whitesmoke', 'gainsboro'\n",
    "            hovercolor = 'dimgrey', \n",
    "            hoverlabel=dict(\n",
    "                bgcolor='#C2C4C7'), \n",
    "            \n",
    "\n",
    "        )\n",
    "    )\n",
    "\n",
    "    # set window width so that steps are evenly spaced out\n",
    "    if n_steps < 5:\n",
    "        width = None\n",
    "    else:\n",
    "        width = n_steps * 200\n",
    "\n",
    "    layout = dict(\n",
    "        height=1000,\n",
    "        width=width,\n",
    "        margin=dict(t=100, l=40, r=200, b=30),\n",
    "        title=title,\n",
    "        font=dict(\n",
    "            size=13, \n",
    "            family='Arial, sans-serif', \n",
    "        ), \n",
    "        title_font = dict(\n",
    "            size = 24, \n",
    "            family='Arial, sans-serif', \n",
    "            weight = 'bold', \n",
    "            color = 'indigo', \n",
    "        )\n",
    "    )\n",
    "\n",
    "    fig = dict(data=[data], layout=layout)\n",
    "    return fig"
   ]
  },
  {
   "cell_type": "markdown",
   "id": "c518d581-15f3-44c5-a7a6-6b85d30c4ac2",
   "metadata": {
    "tags": []
   },
   "source": [
    "## Install necessary visualization packages"
   ]
  },
  {
   "cell_type": "code",
   "execution_count": null,
   "id": "f852dda6-2fc8-4f95-8ff7-d1e076e9a08c",
   "metadata": {},
   "outputs": [],
   "source": [
    "# uncomment the below to run in the notebook, alternatively run in a terminal without the % \n",
    "# %pip install chart-studio "
   ]
  },
  {
   "cell_type": "code",
   "execution_count": 19,
   "id": "35636e99-9ff9-4fb8-98d8-ab1963bffc00",
   "metadata": {},
   "outputs": [
    {
     "data": {
      "text/html": [
       "        <script type=\"text/javascript\">\n",
       "        window.PlotlyConfig = {MathJaxConfig: 'local'};\n",
       "        if (window.MathJax && window.MathJax.Hub && window.MathJax.Hub.Config) {window.MathJax.Hub.Config({SVG: {font: \"STIX-Web\"}});}\n",
       "        if (typeof require !== 'undefined') {\n",
       "        require.undef(\"plotly\");\n",
       "        requirejs.config({\n",
       "            paths: {\n",
       "                'plotly': ['https://cdn.plot.ly/plotly-2.32.0.min']\n",
       "            }\n",
       "        });\n",
       "        require(['plotly'], function(Plotly) {\n",
       "            window._Plotly = Plotly;\n",
       "        });\n",
       "        }\n",
       "        </script>\n",
       "        "
      ]
     },
     "metadata": {},
     "output_type": "display_data"
    }
   ],
   "source": [
    "from chart_studio import plotly \n",
    "\n",
    "from plotly.offline import init_notebook_mode, iplot, plot\n",
    "init_notebook_mode(connected='true')"
   ]
  },
  {
   "cell_type": "markdown",
   "id": "9f9cbaef-e428-4eeb-9604-82c33bd3a044",
   "metadata": {},
   "source": [
    "## Plot data "
   ]
  },
  {
   "cell_type": "code",
   "execution_count": 21,
   "id": "8d9e3828-758f-4c7a-bd40-d664328966d2",
   "metadata": {},
   "outputs": [
    {
     "name": "stdout",
     "output_type": "stream",
     "text": [
      "Original dataframe size: 13433 rows\n",
      "Reduced size: 11825 rows\n",
      "Removed 1608 pageViews with a duration less than 0 second or greater than 3600 seconds\n"
     ]
    }
   ],
   "source": [
    "fig = plot_user_flow(df, starting_step = 'Home', n_steps=10, events_per_step=5, hide_ends = False, \n",
    "                     title='Test User Flow<br><sup>Page views (purple) and click events (teal) July 1st - 7th 2024</sup>') "
   ]
  },
  {
   "cell_type": "code",
   "execution_count": 22,
   "id": "aee423eb-34fd-499c-8abd-a3320785c335",
   "metadata": {},
   "outputs": [
    {
     "data": {
      "text/plain": [
       "'user_flow_outputs/demoUserFlow.html'"
      ]
     },
     "execution_count": 22,
     "metadata": {},
     "output_type": "execute_result"
    }
   ],
   "source": [
    "# this saves the figure to an html file, which can then be opened in its own tab or in the browser \n",
    "plot(fig, filename='user_flow_outputs/demoUserFlow.html')"
   ]
  },
  {
   "cell_type": "code",
   "execution_count": null,
   "id": "198a10a8-cc55-4565-a62c-d2a79d64f8f2",
   "metadata": {},
   "outputs": [],
   "source": []
  }
 ],
 "metadata": {
  "kernelspec": {
   "display_name": "Python 3 (ipykernel)",
   "language": "python",
   "name": "python3"
  },
  "language_info": {
   "codemirror_mode": {
    "name": "ipython",
    "version": 3
   },
   "file_extension": ".py",
   "mimetype": "text/x-python",
   "name": "python",
   "nbconvert_exporter": "python",
   "pygments_lexer": "ipython3",
   "version": "3.9.6"
  }
 },
 "nbformat": 4,
 "nbformat_minor": 5
}
